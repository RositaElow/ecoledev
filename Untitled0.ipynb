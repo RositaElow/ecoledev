{
  "nbformat": 4,
  "nbformat_minor": 0,
  "metadata": {
    "colab": {
      "provenance": [],
      "authorship_tag": "ABX9TyNJSNeDsfDpH4CfUPybG+52",
      "include_colab_link": true
    },
    "kernelspec": {
      "name": "python3",
      "display_name": "Python 3"
    },
    "language_info": {
      "name": "python"
    }
  },
  "cells": [
    {
      "cell_type": "markdown",
      "metadata": {
        "id": "view-in-github",
        "colab_type": "text"
      },
      "source": [
        "<a href=\"https://colab.research.google.com/github/RositaElow/ecoledev/blob/master/Untitled0.ipynb\" target=\"_parent\"><img src=\"https://colab.research.google.com/assets/colab-badge.svg\" alt=\"Open In Colab\"/></a>"
      ]
    },
    {
      "cell_type": "code",
      "execution_count": 11,
      "metadata": {
        "colab": {
          "base_uri": "https://localhost:8080/"
        },
        "id": "SqnicGw7mioV",
        "outputId": "e8589cfb-90c1-461d-99ee-38cbbce835bf"
      },
      "outputs": [
        {
          "output_type": "stream",
          "name": "stdout",
          "text": [
            "0 * 42 = 0\n",
            "1 * 42 = 42\n",
            "2 * 42 = 84\n",
            "3 * 42 = 126\n",
            "4 * 42 = 168\n",
            "5 * 42 = 210\n",
            "6 * 42 = 252\n",
            "7 * 42 = 294\n",
            "8 * 42 = 336\n",
            "9 * 42 = 378\n"
          ]
        }
      ],
      "source": [
        "#Exercice 1\n",
        "def table (n):\n",
        "  for i in range(10):\n",
        "    print(f\"{i} * {n} = {i*n}\")\n",
        "table (42)"
      ]
    },
    {
      "cell_type": "code",
      "source": [
        "#Exercice 2\n",
        "def puissances(n):\n",
        "  for i in range(10):\n",
        "   print(f\"{n} ** {i} = {n**i}\")\n",
        "print(puissances(5))"
      ],
      "metadata": {
        "colab": {
          "base_uri": "https://localhost:8080/"
        },
        "id": "KAnyn6IerS9p",
        "outputId": "b2049b3f-28ed-4ce0-d44d-64ff8495cf43"
      },
      "execution_count": 18,
      "outputs": [
        {
          "output_type": "stream",
          "name": "stdout",
          "text": [
            "5 ** 0 = 1\n",
            "5 ** 1 = 5\n",
            "5 ** 2 = 25\n",
            "5 ** 3 = 125\n",
            "5 ** 4 = 625\n",
            "5 ** 5 = 3125\n",
            "5 ** 6 = 15625\n",
            "5 ** 7 = 78125\n",
            "5 ** 8 = 390625\n",
            "5 ** 9 = 1953125\n",
            "None\n"
          ]
        }
      ]
    },
    {
      "cell_type": "code",
      "source": [
        "#Exercice 3\n",
        "def maxi(n, m):\n",
        "  if n > m:\n",
        "    return n\n",
        "  else:\n",
        "   return m\n",
        "\n",
        "def maxi2(n,m):\n",
        " return n if n>m else m\n",
        "\n",
        "maxi(21, 42), maxi2(21, 42)"
      ],
      "metadata": {
        "colab": {
          "base_uri": "https://localhost:8080/"
        },
        "id": "BSk1AYYwsFcI",
        "outputId": "54389691-6ccc-4a24-cd1c-586b8546890b"
      },
      "execution_count": 22,
      "outputs": [
        {
          "output_type": "execute_result",
          "data": {
            "text/plain": [
              "(42, 42)"
            ]
          },
          "metadata": {},
          "execution_count": 22
        }
      ]
    },
    {
      "cell_type": "code",
      "source": [
        "#exercice 4\n",
        "def is_prime(n):\n",
        " # Return True if n is prime, False otherwise\n",
        " if n<2:\n",
        "   return False\n",
        " if n==2:\n",
        "   return True\n",
        " for i in range(2, n):\n",
        "   # Si i divise ,, alors n n'est pas premier\n",
        "   if n % i ==0:\n",
        "     return False\n",
        " return True"
      ],
      "metadata": {
        "id": "owZrNWeY0YXg"
      },
      "execution_count": 31,
      "outputs": []
    },
    {
      "cell_type": "code",
      "source": [
        "for n in range(1, 15):\n",
        " print(n, \"is prime\" if is_prime(n) else \"is not prime\")"
      ],
      "metadata": {
        "colab": {
          "base_uri": "https://localhost:8080/"
        },
        "id": "tEPskB6Z1G82",
        "outputId": "4e3f80c5-367d-42a6-a23d-af660f82e0bf"
      },
      "execution_count": 32,
      "outputs": [
        {
          "output_type": "stream",
          "name": "stdout",
          "text": [
            "1 is not prime\n",
            "2 is prime\n",
            "3 is prime\n",
            "4 is not prime\n",
            "5 is prime\n",
            "6 is not prime\n",
            "7 is prime\n",
            "8 is not prime\n",
            "9 is not prime\n",
            "10 is not prime\n",
            "11 is prime\n",
            "12 is not prime\n",
            "13 is prime\n",
            "14 is not prime\n"
          ]
        }
      ]
    },
    {
      "cell_type": "code",
      "source": [
        "#Exercice 5\n",
        "def triangle(a, b, c):\n",
        "  #Returns True if a, b, c can form a triangle, False otherwise\n",
        "  longest = maxi(a, b)\n",
        "  longest = maxi(longest, c)\n",
        "\n",
        "  two_shortest_sum = a + b + c - longest\n",
        "\n",
        "  return two_shortest_sum >= longest"
      ],
      "metadata": {
        "id": "iQtvf6fT31wq"
      },
      "execution_count": 33,
      "outputs": []
    },
    {
      "cell_type": "code",
      "source": [
        "triangle (1, 100, 0)"
      ],
      "metadata": {
        "colab": {
          "base_uri": "https://localhost:8080/"
        },
        "id": "0MNYx0y32tsg",
        "outputId": "24b1bd75-259d-474a-80de-4549c78fd82e"
      },
      "execution_count": 34,
      "outputs": [
        {
          "output_type": "execute_result",
          "data": {
            "text/plain": [
              "False"
            ]
          },
          "metadata": {},
          "execution_count": 34
        }
      ]
    },
    {
      "cell_type": "code",
      "source": [
        "#Exercice_les_sequences_1\n",
        "def min_max_span(seq: list):\n",
        "  if len(seq) < 2:\n",
        "    print(\"Error: length < 2\")\n",
        "    return None\n",
        "  mini, maxi = seq[0], seq[0]\n",
        "  for e in seq[1:]:\n",
        "    mini = min(e, mini)\n",
        "    maxi = (e, maxi)\n",
        "  return maxi - mini"
      ],
      "metadata": {
        "id": "qD9M2X-Z6jQb"
      },
      "execution_count": 35,
      "outputs": []
    },
    {
      "cell_type": "code",
      "source": [
        "min_max_span([1])"
      ],
      "metadata": {
        "colab": {
          "base_uri": "https://localhost:8080/"
        },
        "id": "4gluwUp07isE",
        "outputId": "d24b1b4b-ff40-4983-cd46-7c63640bda15"
      },
      "execution_count": 36,
      "outputs": [
        {
          "output_type": "stream",
          "name": "stdout",
          "text": [
            "Error: length < 2\n"
          ]
        }
      ]
    },
    {
      "cell_type": "code",
      "source": [
        "min_max_span([2, 6, 7])"
      ],
      "metadata": {
        "id": "9V9eDhws8hi9"
      },
      "execution_count": null,
      "outputs": []
    },
    {
      "cell_type": "code",
      "source": [
        "#Exercice 5\n",
        "def exo5(seq):\n",
        "  for i, n in enumerate(seq):\n",
        "    seq[i] = i * n"
      ],
      "metadata": {
        "id": "dfHXuqAu850d"
      },
      "execution_count": 40,
      "outputs": []
    },
    {
      "cell_type": "code",
      "source": [
        "a = [2, 42, 21, 1729]\n",
        "exo5(a)\n",
        "a"
      ],
      "metadata": {
        "colab": {
          "base_uri": "https://localhost:8080/"
        },
        "id": "S_0GoS4KTmjT",
        "outputId": "22c918df-c97b-4451-e282-74cdad7f4482"
      },
      "execution_count": 41,
      "outputs": [
        {
          "output_type": "execute_result",
          "data": {
            "text/plain": [
              "[0, 42, 42, 5187]"
            ]
          },
          "metadata": {},
          "execution_count": 41
        }
      ]
    },
    {
      "cell_type": "code",
      "source": [],
      "metadata": {
        "id": "jgb3nXcFUODY"
      },
      "execution_count": null,
      "outputs": []
    },
    {
      "cell_type": "markdown",
      "source": [
        "#5. Les fonctions"
      ],
      "metadata": {
        "id": "A4F_1roJaHOw"
      }
    },
    {
      "cell_type": "code",
      "source": [
        "5! = 5*4*3*2*1\n",
        "6! = 6*5*4*3*2*1 = 6 * 5!"
      ],
      "metadata": {
        "id": "07BUlT818l6X"
      },
      "execution_count": null,
      "outputs": []
    },
    {
      "cell_type": "code",
      "source": [
        "def factorial(n):\n",
        " if n < 0:\n",
        "  return None\n",
        " if n == 0:\n",
        "  return 1\n",
        " return n * factorial(n-1)"
      ],
      "metadata": {
        "id": "X7A_lMIcbf4o"
      },
      "execution_count": 46,
      "outputs": []
    },
    {
      "cell_type": "code",
      "source": [
        "for i in range(-2, 5):\n",
        " print(f\"{i}! = {factorial(i)}\")"
      ],
      "metadata": {
        "colab": {
          "base_uri": "https://localhost:8080/"
        },
        "id": "9EI7yIR6cHRk",
        "outputId": "9d545fb7-0ba2-4835-8858-68effcdbcbc3"
      },
      "execution_count": 49,
      "outputs": [
        {
          "output_type": "stream",
          "name": "stdout",
          "text": [
            "-2! = None\n",
            "-1! = None\n",
            "0! = 1\n",
            "1! = 1\n",
            "2! = 2\n",
            "3! = 6\n",
            "4! = 24\n"
          ]
        }
      ]
    },
    {
      "cell_type": "markdown",
      "source": [
        "#FIB"
      ],
      "metadata": {
        "id": "DJG7pIUSfx3H"
      }
    },
    {
      "cell_type": "code",
      "source": [
        "def fib(n):\n",
        " if n < 0:\n",
        "  return None\n",
        " if n <= 1:\n",
        "  return n\n",
        " return fib(n-1) + fib(n-2)"
      ],
      "metadata": {
        "id": "QfckqQ3wcvrE"
      },
      "execution_count": 52,
      "outputs": []
    },
    {
      "cell_type": "code",
      "source": [
        "for i in range(7):\n",
        " print(f\"fib({i}) = {fib(i)}\")"
      ],
      "metadata": {
        "colab": {
          "base_uri": "https://localhost:8080/"
        },
        "id": "QLvlZ0nnd3n5",
        "outputId": "82882590-45fd-459c-d06e-136fac7e993a"
      },
      "execution_count": 55,
      "outputs": [
        {
          "output_type": "stream",
          "name": "stdout",
          "text": [
            "fib(0) = 0\n",
            "fib(1) = 1\n",
            "fib(2) = 1\n",
            "fib(3) = 2\n",
            "fib(4) = 3\n",
            "fib(5) = 5\n",
            "fib(6) = 8\n"
          ]
        }
      ]
    },
    {
      "cell_type": "code",
      "source": [
        "%%time\n",
        "fib(40)"
      ],
      "metadata": {
        "colab": {
          "base_uri": "https://localhost:8080/"
        },
        "id": "bzuMT_6Bf4MH",
        "outputId": "815528c4-e97c-4b69-d055-8e42cf37c22b"
      },
      "execution_count": 56,
      "outputs": [
        {
          "output_type": "stream",
          "name": "stdout",
          "text": [
            "CPU times: user 56.5 s, sys: 0 ns, total: 56.5 s\n",
            "Wall time: 57 s\n"
          ]
        },
        {
          "output_type": "execute_result",
          "data": {
            "text/plain": [
              "102334155"
            ]
          },
          "metadata": {},
          "execution_count": 56
        }
      ]
    },
    {
      "cell_type": "code",
      "source": [
        "def memo_fib(n, memo = {0:0, 1:1}):\n",
        "  if n in memo:\n",
        "    return memo[n]\n",
        "  memo[n] = memo_fib(n-1, memo) + memo_fib(n-2, memo)\n",
        "  return memo[n]"
      ],
      "metadata": {
        "id": "em73XJn6gY8F"
      },
      "execution_count": 58,
      "outputs": []
    },
    {
      "cell_type": "code",
      "source": [
        "for i in range(7):\n",
        " print(f\"memo-fib({i}) = {memo_fib(i)}\")"
      ],
      "metadata": {
        "colab": {
          "base_uri": "https://localhost:8080/"
        },
        "id": "DLyzAy4SiICU",
        "outputId": "4a6645d9-34a9-4efa-aa3f-44610a55c844"
      },
      "execution_count": 60,
      "outputs": [
        {
          "output_type": "stream",
          "name": "stdout",
          "text": [
            "memo-fib(0) = 0\n",
            "memo-fib(1) = 1\n",
            "memo-fib(2) = 1\n",
            "memo-fib(3) = 2\n",
            "memo-fib(4) = 3\n",
            "memo-fib(5) = 5\n",
            "memo-fib(6) = 8\n"
          ]
        }
      ]
    },
    {
      "cell_type": "code",
      "source": [
        "%%timeit\n",
        "memo_fib(100)"
      ],
      "metadata": {
        "colab": {
          "base_uri": "https://localhost:8080/"
        },
        "id": "R4MHjT5qi0J_",
        "outputId": "a866e9ea-29f3-4ce4-8555-a64ebb55483d"
      },
      "execution_count": 61,
      "outputs": [
        {
          "output_type": "stream",
          "name": "stdout",
          "text": [
            "177 ns ± 39.8 ns per loop (mean ± std. dev. of 7 runs, 10000000 loops each)\n"
          ]
        }
      ]
    }
  ]
}